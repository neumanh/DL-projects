{
  "cells": [
    {
      "attachments": {},
      "cell_type": "markdown",
      "metadata": {},
      "source": [
        "# Lyrics Generation"
      ]
    },
    {
      "attachments": {},
      "cell_type": "markdown",
      "metadata": {},
      "source": [
        "Submitted by:\n",
        "* Tatiana Barladayan\n",
        "* Hadas Neuman"
      ]
    },
    {
      "attachments": {},
      "cell_type": "markdown",
      "metadata": {
        "id": "eWiMUoj4ek21"
      },
      "source": [
        "\n",
        "Credit: https://machinelearningmastery.com/text-generation-with-lstm-in-pytorch/"
      ]
    },
    {
      "cell_type": "code",
      "execution_count": 1,
      "metadata": {
        "id": "9dt8BNAueoME"
      },
      "outputs": [],
      "source": [
        "import numpy as np\n",
        "import torch\n",
        "import torch.nn as nn\n",
        "import torch.optim as optim\n",
        "import torch.utils.data as data\n",
        "import pyarrow.parquet as pq\n",
        "import matplotlib.pyplot as plt\n"
      ]
    },
    {
      "attachments": {},
      "cell_type": "markdown",
      "metadata": {
        "id": "3ZvOmmhVOFAB"
      },
      "source": [
        "## 1. Downloding the data"
      ]
    },
    {
      "cell_type": "code",
      "execution_count": 2,
      "metadata": {
        "colab": {
          "base_uri": "https://localhost:8080/"
        },
        "id": "2wsxWFFnfWvF",
        "outputId": "8f0a2d5d-01d9-4fed-b40e-5259e3f00ddf"
      },
      "outputs": [
        {
          "name": "stdout",
          "output_type": "stream",
          "text": [
            "--2023-05-15 14:02:36--  https://github.com/omriallouche/ydata_deep_learning_2021/raw/master/data/metrolyrics.parquet\n",
            "Resolving github.com (github.com)... 20.27.177.113\n",
            "Connecting to github.com (github.com)|20.27.177.113|:443... connected.\n",
            "HTTP request sent, awaiting response... 302 Found\n",
            "Location: https://raw.githubusercontent.com/omriallouche/ydata_deep_learning_2021/master/data/metrolyrics.parquet [following]\n",
            "--2023-05-15 14:02:36--  https://raw.githubusercontent.com/omriallouche/ydata_deep_learning_2021/master/data/metrolyrics.parquet\n",
            "Resolving raw.githubusercontent.com (raw.githubusercontent.com)... 185.199.108.133, 185.199.109.133, 185.199.110.133, ...\n",
            "Connecting to raw.githubusercontent.com (raw.githubusercontent.com)|185.199.108.133|:443... connected.\n",
            "HTTP request sent, awaiting response... 200 OK\n",
            "Length: 61980056 (59M) [application/octet-stream]\n",
            "Saving to: ‘metrolyrics.parquet.2’\n",
            "\n",
            "metrolyrics.parquet 100%[===================>]  59.11M   177MB/s    in 0.3s    \n",
            "\n",
            "2023-05-15 14:02:41 (177 MB/s) - ‘metrolyrics.parquet.2’ saved [61980056/61980056]\n",
            "\n"
          ]
        }
      ],
      "source": [
        "!wget https://github.com/omriallouche/ydata_deep_learning_2021/raw/master/data/metrolyrics.parquet"
      ]
    },
    {
      "attachments": {},
      "cell_type": "markdown",
      "metadata": {
        "id": "A4LJkvxNOLwa"
      },
      "source": [
        "Converting into Pandas dataframe and selecting the **Rock genre**"
      ]
    },
    {
      "cell_type": "code",
      "execution_count": 3,
      "metadata": {
        "id": "n1SFSVe7DNjk"
      },
      "outputs": [],
      "source": [
        "df = pq.read_table('metrolyrics.parquet').to_pandas()\n",
        "sub_df = df[df['genre']=='Rock']"
      ]
    },
    {
      "cell_type": "code",
      "execution_count": 4,
      "metadata": {
        "colab": {
          "base_uri": "https://localhost:8080/",
          "height": 641
        },
        "id": "2dSz1k30kddJ",
        "outputId": "72b2af0a-6813-4a74-d501-2c538b99fe4f"
      },
      "outputs": [
        {
          "name": "stdout",
          "output_type": "stream",
          "text": [
            "11733 songs:\n"
          ]
        },
        {
          "data": {
            "text/html": [
              "\n",
              "  <div id=\"df-40d76ada-85ac-432f-88c4-cc35e94f2ddc\">\n",
              "    <div class=\"colab-df-container\">\n",
              "      <div>\n",
              "<style scoped>\n",
              "    .dataframe tbody tr th:only-of-type {\n",
              "        vertical-align: middle;\n",
              "    }\n",
              "\n",
              "    .dataframe tbody tr th {\n",
              "        vertical-align: top;\n",
              "    }\n",
              "\n",
              "    .dataframe thead th {\n",
              "        text-align: right;\n",
              "    }\n",
              "</style>\n",
              "<table border=\"1\" class=\"dataframe\">\n",
              "  <thead>\n",
              "    <tr style=\"text-align: right;\">\n",
              "      <th></th>\n",
              "      <th>song</th>\n",
              "      <th>year</th>\n",
              "      <th>artist</th>\n",
              "      <th>genre</th>\n",
              "      <th>lyrics</th>\n",
              "      <th>num_chars</th>\n",
              "      <th>sent</th>\n",
              "      <th>num_words</th>\n",
              "    </tr>\n",
              "  </thead>\n",
              "  <tbody>\n",
              "    <tr>\n",
              "      <th>198416</th>\n",
              "      <td>the-truth-will-set-me-free</td>\n",
              "      <td>2006</td>\n",
              "      <td>glenn-hughes</td>\n",
              "      <td>Rock</td>\n",
              "      <td>In a scarlet vision\\nIn a velvet room\\nI come ...</td>\n",
              "      <td>779</td>\n",
              "      <td>in scarlet vision in velvet room i come decisi...</td>\n",
              "      <td>583</td>\n",
              "    </tr>\n",
              "    <tr>\n",
              "      <th>179845</th>\n",
              "      <td>grey-matter</td>\n",
              "      <td>2007</td>\n",
              "      <td>criteria</td>\n",
              "      <td>Rock</td>\n",
              "      <td>your hands in the wind\\nyour pretending to be ...</td>\n",
              "      <td>621</td>\n",
              "      <td>hands wind pretending affected soft blows skin...</td>\n",
              "      <td>371</td>\n",
              "    </tr>\n",
              "    <tr>\n",
              "      <th>131442</th>\n",
              "      <td>day-for-night</td>\n",
              "      <td>2007</td>\n",
              "      <td>beck</td>\n",
              "      <td>Rock</td>\n",
              "      <td>I put my voice away\\nI shoot the lights out no...</td>\n",
              "      <td>367</td>\n",
              "      <td>i put voice away i shoot lights seize moment w...</td>\n",
              "      <td>284</td>\n",
              "    </tr>\n",
              "    <tr>\n",
              "      <th>240411</th>\n",
              "      <td>alone</td>\n",
              "      <td>2016</td>\n",
              "      <td>city</td>\n",
              "      <td>Rock</td>\n",
              "      <td>Some days I barely hold on\\nWhen life drags me...</td>\n",
              "      <td>1552</td>\n",
              "      <td>some days i barely hold when life drags i wan ...</td>\n",
              "      <td>1058</td>\n",
              "    </tr>\n",
              "    <tr>\n",
              "      <th>78900</th>\n",
              "      <td>armageddon-man</td>\n",
              "      <td>2006</td>\n",
              "      <td>black-flag</td>\n",
              "      <td>Rock</td>\n",
              "      <td>Yea?????\\nNowhere to go?No place to go...\\nI?m...</td>\n",
              "      <td>5422</td>\n",
              "      <td>yea nowhere go no place go i real screwed eyes...</td>\n",
              "      <td>3458</td>\n",
              "    </tr>\n",
              "    <tr>\n",
              "      <th>...</th>\n",
              "      <td>...</td>\n",
              "      <td>...</td>\n",
              "      <td>...</td>\n",
              "      <td>...</td>\n",
              "      <td>...</td>\n",
              "      <td>...</td>\n",
              "      <td>...</td>\n",
              "      <td>...</td>\n",
              "    </tr>\n",
              "    <tr>\n",
              "      <th>27767</th>\n",
              "      <td>billie-jean</td>\n",
              "      <td>2008</td>\n",
              "      <td>david-cook</td>\n",
              "      <td>Rock</td>\n",
              "      <td>She was more like a beauty queen from a movie ...</td>\n",
              "      <td>1655</td>\n",
              "      <td>she like beauty queen movie scene i said dont ...</td>\n",
              "      <td>1011</td>\n",
              "    </tr>\n",
              "    <tr>\n",
              "      <th>130442</th>\n",
              "      <td>song-in-3</td>\n",
              "      <td>2010</td>\n",
              "      <td>galaxie-500</td>\n",
              "      <td>Rock</td>\n",
              "      <td>And your smile, and the taste of your soda-pop...</td>\n",
              "      <td>181</td>\n",
              "      <td>and smile taste soda pop and frown cut cheese ...</td>\n",
              "      <td>89</td>\n",
              "    </tr>\n",
              "    <tr>\n",
              "      <th>206449</th>\n",
              "      <td>hell-no</td>\n",
              "      <td>2009</td>\n",
              "      <td>better-than-ezra</td>\n",
              "      <td>Rock</td>\n",
              "      <td>put your ear up to the speaker, let your jaw d...</td>\n",
              "      <td>1433</td>\n",
              "      <td>put ear speaker let jaw drop witness power sug...</td>\n",
              "      <td>793</td>\n",
              "    </tr>\n",
              "    <tr>\n",
              "      <th>194149</th>\n",
              "      <td>all-i-m-thinking-about-is-you</td>\n",
              "      <td>2000</td>\n",
              "      <td>billy-ray-cyrus</td>\n",
              "      <td>Rock</td>\n",
              "      <td>Well it's a twenty-five mile drive from here t...</td>\n",
              "      <td>1094</td>\n",
              "      <td>well twenty five mile drive town ther gray ski...</td>\n",
              "      <td>676</td>\n",
              "    </tr>\n",
              "    <tr>\n",
              "      <th>11180</th>\n",
              "      <td>i-am-the-man</td>\n",
              "      <td>2008</td>\n",
              "      <td>the-czars</td>\n",
              "      <td>Rock</td>\n",
              "      <td>You are beyond any reproach now\\nYou are so co...</td>\n",
              "      <td>715</td>\n",
              "      <td>you beyond reproach you cool youre flawless pe...</td>\n",
              "      <td>446</td>\n",
              "    </tr>\n",
              "  </tbody>\n",
              "</table>\n",
              "<p>11733 rows × 8 columns</p>\n",
              "</div>\n",
              "      <button class=\"colab-df-convert\" onclick=\"convertToInteractive('df-40d76ada-85ac-432f-88c4-cc35e94f2ddc')\"\n",
              "              title=\"Convert this dataframe to an interactive table.\"\n",
              "              style=\"display:none;\">\n",
              "        \n",
              "  <svg xmlns=\"http://www.w3.org/2000/svg\" height=\"24px\"viewBox=\"0 0 24 24\"\n",
              "       width=\"24px\">\n",
              "    <path d=\"M0 0h24v24H0V0z\" fill=\"none\"/>\n",
              "    <path d=\"M18.56 5.44l.94 2.06.94-2.06 2.06-.94-2.06-.94-.94-2.06-.94 2.06-2.06.94zm-11 1L8.5 8.5l.94-2.06 2.06-.94-2.06-.94L8.5 2.5l-.94 2.06-2.06.94zm10 10l.94 2.06.94-2.06 2.06-.94-2.06-.94-.94-2.06-.94 2.06-2.06.94z\"/><path d=\"M17.41 7.96l-1.37-1.37c-.4-.4-.92-.59-1.43-.59-.52 0-1.04.2-1.43.59L10.3 9.45l-7.72 7.72c-.78.78-.78 2.05 0 2.83L4 21.41c.39.39.9.59 1.41.59.51 0 1.02-.2 1.41-.59l7.78-7.78 2.81-2.81c.8-.78.8-2.07 0-2.86zM5.41 20L4 18.59l7.72-7.72 1.47 1.35L5.41 20z\"/>\n",
              "  </svg>\n",
              "      </button>\n",
              "      \n",
              "  <style>\n",
              "    .colab-df-container {\n",
              "      display:flex;\n",
              "      flex-wrap:wrap;\n",
              "      gap: 12px;\n",
              "    }\n",
              "\n",
              "    .colab-df-convert {\n",
              "      background-color: #E8F0FE;\n",
              "      border: none;\n",
              "      border-radius: 50%;\n",
              "      cursor: pointer;\n",
              "      display: none;\n",
              "      fill: #1967D2;\n",
              "      height: 32px;\n",
              "      padding: 0 0 0 0;\n",
              "      width: 32px;\n",
              "    }\n",
              "\n",
              "    .colab-df-convert:hover {\n",
              "      background-color: #E2EBFA;\n",
              "      box-shadow: 0px 1px 2px rgba(60, 64, 67, 0.3), 0px 1px 3px 1px rgba(60, 64, 67, 0.15);\n",
              "      fill: #174EA6;\n",
              "    }\n",
              "\n",
              "    [theme=dark] .colab-df-convert {\n",
              "      background-color: #3B4455;\n",
              "      fill: #D2E3FC;\n",
              "    }\n",
              "\n",
              "    [theme=dark] .colab-df-convert:hover {\n",
              "      background-color: #434B5C;\n",
              "      box-shadow: 0px 1px 3px 1px rgba(0, 0, 0, 0.15);\n",
              "      filter: drop-shadow(0px 1px 2px rgba(0, 0, 0, 0.3));\n",
              "      fill: #FFFFFF;\n",
              "    }\n",
              "  </style>\n",
              "\n",
              "      <script>\n",
              "        const buttonEl =\n",
              "          document.querySelector('#df-40d76ada-85ac-432f-88c4-cc35e94f2ddc button.colab-df-convert');\n",
              "        buttonEl.style.display =\n",
              "          google.colab.kernel.accessAllowed ? 'block' : 'none';\n",
              "\n",
              "        async function convertToInteractive(key) {\n",
              "          const element = document.querySelector('#df-40d76ada-85ac-432f-88c4-cc35e94f2ddc');\n",
              "          const dataTable =\n",
              "            await google.colab.kernel.invokeFunction('convertToInteractive',\n",
              "                                                     [key], {});\n",
              "          if (!dataTable) return;\n",
              "\n",
              "          const docLinkHtml = 'Like what you see? Visit the ' +\n",
              "            '<a target=\"_blank\" href=https://colab.research.google.com/notebooks/data_table.ipynb>data table notebook</a>'\n",
              "            + ' to learn more about interactive tables.';\n",
              "          element.innerHTML = '';\n",
              "          dataTable['output_type'] = 'display_data';\n",
              "          await google.colab.output.renderOutput(dataTable, element);\n",
              "          const docLink = document.createElement('div');\n",
              "          docLink.innerHTML = docLinkHtml;\n",
              "          element.appendChild(docLink);\n",
              "        }\n",
              "      </script>\n",
              "    </div>\n",
              "  </div>\n",
              "  "
            ],
            "text/plain": [
              "                                 song  year            artist genre  \\\n",
              "198416     the-truth-will-set-me-free  2006      glenn-hughes  Rock   \n",
              "179845                    grey-matter  2007          criteria  Rock   \n",
              "131442                  day-for-night  2007              beck  Rock   \n",
              "240411                          alone  2016              city  Rock   \n",
              "78900                  armageddon-man  2006        black-flag  Rock   \n",
              "...                               ...   ...               ...   ...   \n",
              "27767                     billie-jean  2008        david-cook  Rock   \n",
              "130442                      song-in-3  2010       galaxie-500  Rock   \n",
              "206449                        hell-no  2009  better-than-ezra  Rock   \n",
              "194149  all-i-m-thinking-about-is-you  2000   billy-ray-cyrus  Rock   \n",
              "11180                    i-am-the-man  2008         the-czars  Rock   \n",
              "\n",
              "                                                   lyrics  num_chars  \\\n",
              "198416  In a scarlet vision\\nIn a velvet room\\nI come ...        779   \n",
              "179845  your hands in the wind\\nyour pretending to be ...        621   \n",
              "131442  I put my voice away\\nI shoot the lights out no...        367   \n",
              "240411  Some days I barely hold on\\nWhen life drags me...       1552   \n",
              "78900   Yea?????\\nNowhere to go?No place to go...\\nI?m...       5422   \n",
              "...                                                   ...        ...   \n",
              "27767   She was more like a beauty queen from a movie ...       1655   \n",
              "130442  And your smile, and the taste of your soda-pop...        181   \n",
              "206449  put your ear up to the speaker, let your jaw d...       1433   \n",
              "194149  Well it's a twenty-five mile drive from here t...       1094   \n",
              "11180   You are beyond any reproach now\\nYou are so co...        715   \n",
              "\n",
              "                                                     sent  num_words  \n",
              "198416  in scarlet vision in velvet room i come decisi...        583  \n",
              "179845  hands wind pretending affected soft blows skin...        371  \n",
              "131442  i put voice away i shoot lights seize moment w...        284  \n",
              "240411  some days i barely hold when life drags i wan ...       1058  \n",
              "78900   yea nowhere go no place go i real screwed eyes...       3458  \n",
              "...                                                   ...        ...  \n",
              "27767   she like beauty queen movie scene i said dont ...       1011  \n",
              "130442  and smile taste soda pop and frown cut cheese ...         89  \n",
              "206449  put ear speaker let jaw drop witness power sug...        793  \n",
              "194149  well twenty five mile drive town ther gray ski...        676  \n",
              "11180   you beyond reproach you cool youre flawless pe...        446  \n",
              "\n",
              "[11733 rows x 8 columns]"
            ]
          },
          "execution_count": 4,
          "metadata": {},
          "output_type": "execute_result"
        }
      ],
      "source": [
        "print(sub_df.shape[0], 'songs:')\n",
        "sub_df"
      ]
    },
    {
      "attachments": {},
      "cell_type": "markdown",
      "metadata": {
        "id": "tBpKyquIO3wd"
      },
      "source": [
        "## 2. Preprocessing the data"
      ]
    },
    {
      "attachments": {},
      "cell_type": "markdown",
      "metadata": {},
      "source": [
        "Dropping songs with non-english characters led to overfitting and repeatetive pattern from some reason."
      ]
    },
    {
      "cell_type": "code",
      "execution_count": null,
      "metadata": {},
      "outputs": [],
      "source": [
        "# clean_sub_df = sub_df.drop(sub_df[sub_df['lyrics'].str.contains(r'[^0-9a-zA-Z\\s\\n@&$!?\\.\\',():-]')].index)\n",
        "# clean_sub_df.shape"
      ]
    },
    {
      "attachments": {},
      "cell_type": "markdown",
      "metadata": {
        "id": "A85Hi2L_OXUo"
      },
      "source": [
        "Taking only a portion of the data otherwise the session crashes"
      ]
    },
    {
      "cell_type": "code",
      "execution_count": 5,
      "metadata": {
        "id": "IVaxwNsikXFj"
      },
      "outputs": [],
      "source": [
        "n = 1000\n",
        "# sub_df = sub_df[:n] \n",
        "sub_df = sub_df.sample(n=n, random_state=1)"
      ]
    },
    {
      "attachments": {},
      "cell_type": "markdown",
      "metadata": {
        "id": "iaHpZ2R6Ob0U"
      },
      "source": [
        "Retrieving the lyrics"
      ]
    },
    {
      "cell_type": "code",
      "execution_count": 6,
      "metadata": {
        "colab": {
          "base_uri": "https://localhost:8080/"
        },
        "id": "Bc2CNelHfYdc",
        "outputId": "5e554cda-8ea6-442c-e56b-d29c4e02ace3"
      },
      "outputs": [
        {
          "name": "stdout",
          "output_type": "stream",
          "text": [
            "i know a carpenter who had a dream\n",
            "killed the man but you couldn't kill the dream\n",
            "who said it was easy\n",
            "people gotta be f\n",
            "\n",
            "corpus length: 961385\n"
          ]
        }
      ],
      "source": [
        "# Testing if we can overfit (and the model works as it should)\n",
        "# rock_lyrics = 'I love chocolate and banana and marshmelo and guyava. What do you like?'\n",
        "# Success\n",
        "\n",
        "rock_lyrics = sub_df['lyrics'].str.cat(sep='\\n').lower()\n",
        "\n",
        "print(rock_lyrics[:120])\n",
        "print('\\ncorpus length:', len(rock_lyrics))"
      ]
    },
    {
      "cell_type": "code",
      "execution_count": 8,
      "metadata": {
        "id": "iNmHTORGfsf_"
      },
      "outputs": [],
      "source": [
        "raw_text = rock_lyrics"
      ]
    },
    {
      "attachments": {},
      "cell_type": "markdown",
      "metadata": {
        "id": "a3-bBpyuOhub"
      },
      "source": [
        "Mapping of unique chars to integers"
      ]
    },
    {
      "cell_type": "code",
      "execution_count": 9,
      "metadata": {
        "id": "3uWKu7Fyesi8"
      },
      "outputs": [],
      "source": [
        "chars = sorted(list(set(raw_text)))\n",
        "char_to_int = dict((c, i) for i, c in enumerate(chars))\n"
      ]
    },
    {
      "attachments": {},
      "cell_type": "markdown",
      "metadata": {
        "id": "fpTLDKcrOxyt"
      },
      "source": [
        "Summarizing the loaded data"
      ]
    },
    {
      "cell_type": "code",
      "execution_count": 10,
      "metadata": {
        "colab": {
          "base_uri": "https://localhost:8080/"
        },
        "id": "M_E1oQJgevEe",
        "outputId": "5fa918dd-9e13-4c38-b1b6-a093040f8078"
      },
      "outputs": [
        {
          "name": "stdout",
          "output_type": "stream",
          "text": [
            "Total Characters:  961385\n",
            "Total Vocab:  100\n"
          ]
        }
      ],
      "source": [
        "n_chars = len(raw_text)\n",
        "n_vocab = len(chars)\n",
        "print(\"Total Characters: \", n_chars)\n",
        "print(\"Total Vocab: \", n_vocab)"
      ]
    },
    {
      "cell_type": "code",
      "execution_count": 11,
      "metadata": {
        "colab": {
          "base_uri": "https://localhost:8080/"
        },
        "id": "NAZDg8yHsuf1",
        "outputId": "6108593a-8a19-4aa8-e9c7-200dfd202977"
      },
      "outputs": [
        {
          "data": {
            "text/plain": [
              "['\\t',\n",
              " '\\n',\n",
              " ' ',\n",
              " '!',\n",
              " '\"',\n",
              " '#',\n",
              " '&',\n",
              " \"'\",\n",
              " '(',\n",
              " ')',\n",
              " '*',\n",
              " ',',\n",
              " '-',\n",
              " '.',\n",
              " '/',\n",
              " '0',\n",
              " '1',\n",
              " '2',\n",
              " '3',\n",
              " '4',\n",
              " '5',\n",
              " '6',\n",
              " '7',\n",
              " '8',\n",
              " '9',\n",
              " ':',\n",
              " ';',\n",
              " '=',\n",
              " '>',\n",
              " '?',\n",
              " '[',\n",
              " ']',\n",
              " '_',\n",
              " '`',\n",
              " 'a',\n",
              " 'b',\n",
              " 'c',\n",
              " 'd',\n",
              " 'e',\n",
              " 'f',\n",
              " 'g',\n",
              " 'h',\n",
              " 'i',\n",
              " 'j',\n",
              " 'k',\n",
              " 'l',\n",
              " 'm',\n",
              " 'n',\n",
              " 'o',\n",
              " 'p',\n",
              " 'q',\n",
              " 'r',\n",
              " 's',\n",
              " 't',\n",
              " 'u',\n",
              " 'v',\n",
              " 'w',\n",
              " 'x',\n",
              " 'y',\n",
              " 'z',\n",
              " '{',\n",
              " '|',\n",
              " '}',\n",
              " '~',\n",
              " '\\x80',\n",
              " '\\x88',\n",
              " '\\x99',\n",
              " '\\x9c',\n",
              " '\\x9d',\n",
              " '\\x9f',\n",
              " '\\xa0',\n",
              " '¡',\n",
              " '¢',\n",
              " '¤',\n",
              " '¦',\n",
              " '§',\n",
              " '¨',\n",
              " '©',\n",
              " '¬',\n",
              " '\\xad',\n",
              " '°',\n",
              " '±',\n",
              " '³',\n",
              " '´',\n",
              " '¶',\n",
              " '¹',\n",
              " 'º',\n",
              " '¼',\n",
              " '¿',\n",
              " 'ß',\n",
              " 'â',\n",
              " 'ã',\n",
              " 'ä',\n",
              " 'å',\n",
              " 'ö',\n",
              " 'ü',\n",
              " 'ą',\n",
              " 'ę',\n",
              " 'ł',\n",
              " 'ż']"
            ]
          },
          "execution_count": 11,
          "metadata": {},
          "output_type": "execute_result"
        }
      ],
      "source": [
        "chars"
      ]
    },
    {
      "attachments": {},
      "cell_type": "markdown",
      "metadata": {},
      "source": [
        "Let's look of an example of a special character"
      ]
    },
    {
      "cell_type": "code",
      "execution_count": 12,
      "metadata": {
        "colab": {
          "base_uri": "https://localhost:8080/",
          "height": 35
        },
        "id": "vbEMqlo7tkdC",
        "outputId": "60a3a0e2-b651-45f2-f1b1-7f8342da19d9"
      },
      "outputs": [
        {
          "data": {
            "application/vnd.google.colaboratory.intrinsic+json": {
              "type": "string"
            },
            "text/plain": [
              "'no eh de irme\\nme irã© quemando casquillo'"
            ]
          },
          "execution_count": 12,
          "metadata": {},
          "output_type": "execute_result"
        }
      ],
      "source": [
        "i = raw_text.find('©')\n",
        "raw_text[i-20:i+20]"
      ]
    },
    {
      "attachments": {},
      "cell_type": "markdown",
      "metadata": {
        "id": "UHPYB4kBPBOo"
      },
      "source": [
        "Prepare the dataset of input to output pairs encoded as integers"
      ]
    },
    {
      "cell_type": "code",
      "execution_count": 14,
      "metadata": {
        "colab": {
          "base_uri": "https://localhost:8080/"
        },
        "id": "54xDKkoyewUs",
        "outputId": "b5d7d480-b9e4-41f2-f5e5-514285bf72ad"
      },
      "outputs": [
        {
          "name": "stdout",
          "output_type": "stream",
          "text": [
            "Total Patterns:  961335\n"
          ]
        }
      ],
      "source": [
        "seq_length = 50 # Window\n",
        "dataX = []\n",
        "dataY = []\n",
        "for i in range(0, n_chars - seq_length, 1):\n",
        "    seq_in = raw_text[i:i + seq_length]\n",
        "    seq_out = raw_text[i + seq_length]\n",
        "    dataX.append([char_to_int[char] for char in seq_in])\n",
        "    dataY.append(char_to_int[seq_out])\n",
        "n_patterns = len(dataX)\n",
        "print(\"Total Patterns: \", n_patterns)"
      ]
    },
    {
      "attachments": {},
      "cell_type": "markdown",
      "metadata": {
        "id": "50ysUJpGPNIm"
      },
      "source": [
        "Reshape X to be [samples, time steps, features]"
      ]
    },
    {
      "cell_type": "code",
      "execution_count": 15,
      "metadata": {
        "id": "y8kkouFaeyGu"
      },
      "outputs": [],
      "source": [
        "X = torch.tensor(dataX, dtype=torch.float32).reshape(n_patterns, seq_length, 1)\n",
        "X = X / float(n_vocab)\n",
        "y = torch.tensor(dataY)"
      ]
    },
    {
      "attachments": {},
      "cell_type": "markdown",
      "metadata": {
        "id": "u61KeUnhPaqi"
      },
      "source": [
        "## 3. Define and Train an LSTM Model"
      ]
    },
    {
      "cell_type": "code",
      "execution_count": 16,
      "metadata": {
        "id": "H3MPNxrYe0Nc"
      },
      "outputs": [],
      "source": [
        "class CharModel(nn.Module):\n",
        "    def __init__(self):\n",
        "        super().__init__()\n",
        "        self.lstm = nn.LSTM(input_size=1, hidden_size=256, num_layers=2, batch_first=True, dropout=0.2)\n",
        "        self.dropout = nn.Dropout(0.2)\n",
        "        self.linear = nn.Linear(256, n_vocab)\n",
        "    def forward(self, x):\n",
        "        x, _ = self.lstm(x)\n",
        "        # take only the last output\n",
        "        x = x[:, -1, :]\n",
        "        # produce output\n",
        "        x = self.linear(self.dropout(x))\n",
        "        return x"
      ]
    },
    {
      "attachments": {},
      "cell_type": "markdown",
      "metadata": {
        "id": "N7NCvcxaPkyV"
      },
      "source": [
        "Defining the optimizer and the loss function"
      ]
    },
    {
      "cell_type": "code",
      "execution_count": 17,
      "metadata": {
        "id": "tyWY8c8ae3Qs"
      },
      "outputs": [],
      "source": [
        "n_epochs = 20\n",
        "batch_size = 128\n",
        "model = CharModel()\n",
        "device = torch.device(\"cuda:0\" if torch.cuda.is_available() else \"cpu\")\n",
        "model.to(device)\n",
        "\n",
        "optimizer = optim.Adam(model.parameters())\n",
        "loss_fn = nn.CrossEntropyLoss(reduction=\"sum\")\n",
        "# loader = data.DataLoader(data.TensorDataset(X, y), shuffle=True, batch_size=batch_size)\n",
        "loader = data.DataLoader(data.TensorDataset(X, y), batch_size=batch_size)\n",
        "\n"
      ]
    },
    {
      "cell_type": "code",
      "execution_count": 18,
      "metadata": {
        "colab": {
          "base_uri": "https://localhost:8080/"
        },
        "id": "UKXCKrm-e7oU",
        "outputId": "d51a5101-c105-4b41-a741-81122700422f"
      },
      "outputs": [
        {
          "name": "stdout",
          "output_type": "stream",
          "text": [
            "Epoch 0: Cross-entropy: 2349699.2500\n",
            "Epoch 1: Cross-entropy: 2135467.2500\n",
            "Epoch 2: Cross-entropy: 1958239.5000\n",
            "Epoch 3: Cross-entropy: 1922380.6250\n",
            "Epoch 4: Cross-entropy: 1810656.0000\n",
            "Epoch 5: Cross-entropy: 1942970.5000\n",
            "Epoch 6: Cross-entropy: 1751567.8750\n",
            "Epoch 7: Cross-entropy: 1688926.3750\n",
            "Epoch 8: Cross-entropy: 1659635.7500\n",
            "Epoch 9: Cross-entropy: 1642991.5000\n",
            "Epoch 10: Cross-entropy: 1622536.6250\n",
            "Epoch 11: Cross-entropy: 1583155.3750\n",
            "Epoch 12: Cross-entropy: 1562942.7500\n",
            "Epoch 13: Cross-entropy: 1573254.3750\n",
            "Epoch 14: Cross-entropy: 1537663.2500\n",
            "Epoch 15: Cross-entropy: 1531151.5000\n",
            "Epoch 16: Cross-entropy: 1523111.6250\n",
            "Epoch 17: Cross-entropy: 1526261.7500\n",
            "Epoch 18: Cross-entropy: 1506587.1250\n",
            "Epoch 19: Cross-entropy: 1548245.3750\n"
          ]
        }
      ],
      "source": [
        "best_model = None\n",
        "best_loss = np.inf\n",
        "losses = []\n",
        "for epoch in range(n_epochs):\n",
        "    model.train()\n",
        "    for X_batch, y_batch in loader:\n",
        "        y_pred = model(X_batch.to(device))\n",
        "        loss = loss_fn(y_pred, y_batch.to(device))\n",
        "        optimizer.zero_grad()\n",
        "        loss.backward()\n",
        "        optimizer.step()\n",
        "    # Validation\n",
        "    model.eval()\n",
        "    loss = 0\n",
        "    with torch.no_grad():\n",
        "        for X_batch, y_batch in loader:\n",
        "            y_pred = model(X_batch.to(device))\n",
        "            loss += loss_fn(y_pred, y_batch.to(device))\n",
        "        losses.append(loss)\n",
        "        if loss < best_loss:\n",
        "            best_loss = loss\n",
        "            best_model = model.state_dict()\n",
        "        print(\"Epoch %d: Cross-entropy: %.4f\" % (epoch, loss))\n",
        "\n",
        "torch.save([best_model, char_to_int], \"single-char.pth\")"
      ]
    },
    {
      "cell_type": "code",
      "execution_count": 19,
      "metadata": {
        "colab": {
          "base_uri": "https://localhost:8080/",
          "height": 482
        },
        "id": "PRxkoG_13SNp",
        "outputId": "5d2fa2f3-ea84-4e91-d34c-4fb0823b010c"
      },
      "outputs": [
        {
          "data": {
            "text/plain": [
              "Text(0, 0.5, 'Cross Entropy Loss')"
            ]
          },
          "execution_count": 19,
          "metadata": {},
          "output_type": "execute_result"
        },
        {
          "data": {
            "image/png": "[encoded data removed]",
            "text/plain": [
              "<Figure size 640x480 with 1 Axes>"
            ]
          },
          "metadata": {},
          "output_type": "display_data"
        }
      ],
      "source": [
        "new_losses = []\n",
        "for l in losses:\n",
        "    new_losses.append(l.item())\n",
        "plt.plot(new_losses)\n",
        "plt.xlabel('Epoch')\n",
        "plt.ylabel('Cross Entropy Loss')"
      ]
    },
    {
      "attachments": {},
      "cell_type": "markdown",
      "metadata": {},
      "source": [
        "### Generating lyrics using the trained model\n"
      ]
    },
    {
      "cell_type": "code",
      "execution_count": 20,
      "metadata": {
        "colab": {
          "base_uri": "https://localhost:8080/"
        },
        "id": "wLZ6n-c4e7f7",
        "outputId": "88eb274d-c85b-4377-c1e0-9f692537852c"
      },
      "outputs": [
        {
          "data": {
            "text/plain": [
              "<All keys matched successfully>"
            ]
          },
          "execution_count": 20,
          "metadata": {},
          "output_type": "execute_result"
        }
      ],
      "source": [
        "\n",
        "best_model, char_to_int = torch.load(\"single-char.pth\")\n",
        "n_vocab = len(char_to_int)\n",
        "int_to_char = dict((i, c) for c, i in char_to_int.items())\n",
        "model.load_state_dict(best_model)"
      ]
    },
    {
      "attachments": {},
      "cell_type": "markdown",
      "metadata": {},
      "source": [
        "Generate a random prompt"
      ]
    },
    {
      "cell_type": "code",
      "execution_count": 21,
      "metadata": {
        "id": "qpDuJbtfe-kE"
      },
      "outputs": [],
      "source": [
        "start = np.random.randint(0, len(raw_text)-seq_length)\n",
        "prompt = raw_text[start:start+seq_length]\n",
        "pattern = [char_to_int[c] for c in prompt]"
      ]
    },
    {
      "attachments": {},
      "cell_type": "markdown",
      "metadata": {},
      "source": [
        "Sending the prompt to the model"
      ]
    },
    {
      "cell_type": "code",
      "execution_count": 22,
      "metadata": {
        "colab": {
          "base_uri": "https://localhost:8080/"
        },
        "id": "1Pac77q7eeeE",
        "outputId": "01c68524-b990-443d-e4a7-6ec926b10459"
      },
      "outputs": [
        {
          "name": "stdout",
          "output_type": "stream",
          "text": [
            "Prompt: t, ooh, let me in once more\n",
            "open up (your arms, i \n",
            "want to be the way you done and see you and the shine of the way\n",
            "the way it's to can the shght whth you\n",
            "and i want to be a sent\n",
            "oh you and i want to be a sent\n",
            "oh you can tell you thme\n",
            "the way it was a\n",
            "\n",
            "Done.\n"
          ]
        }
      ],
      "source": [
        "model.eval()\n",
        "print('Prompt:', prompt)\n",
        "with torch.no_grad():\n",
        "    for i in range(200):\n",
        "        # format input array of int into PyTorch tensor\n",
        "        x = np.reshape(pattern, (1, len(pattern), 1)) / float(n_vocab)\n",
        "        x = torch.tensor(x, dtype=torch.float32)\n",
        "        # generate logits as output from the model\n",
        "        prediction = model(x.to(device))\n",
        "        # convert logits into one character\n",
        "        index = int(prediction.argmax())\n",
        "        result = int_to_char[index]\n",
        "        print(result, end=\"\")\n",
        "        # append the new character into the prompt for the next iteration\n",
        "        pattern.append(index)\n",
        "        pattern = pattern[1:]\n",
        "print()\n",
        "print(\"\\nDone.\")"
      ]
    }
  ],
  "metadata": {
    "accelerator": "GPU",
    "colab": {
      "gpuType": "T4",
      "machine_shape": "hm",
      "provenance": []
    },
    "gpuClass": "standard",
    "kernelspec": {
      "display_name": "Python 3",
      "name": "python3"
    },
    "language_info": {
      "name": "python"
    }
  },
  "nbformat": 4,
  "nbformat_minor": 0
}
